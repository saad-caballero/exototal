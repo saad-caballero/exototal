{
 "cells": [
  {
   "cell_type": "code",
   "execution_count": 1,
   "id": "08941372-77c2-4e30-95cf-1dd4d2aef03a",
   "metadata": {},
   "outputs": [
    {
     "name": "stdin",
     "output_type": "stream",
     "text": [
      "Entrez le premier nombre :  10\n",
      "Entrez le deuxième nombre :  20\n",
      "Entrez l'opérateur (+, -, *, /) :  +\n"
     ]
    },
    {
     "name": "stdout",
     "output_type": "stream",
     "text": [
      "Le résultat est : 30.0\n"
     ]
    }
   ],
   "source": [
    "def calculatrice():\n",
    "    try:\n",
    "        # Demander à l'utilisateur d'entrer les deux nombres et l'opérateur\n",
    "        nombre1 = float(input(\"Entrez le premier nombre : \"))\n",
    "        nombre2 = float(input(\"Entrez le deuxième nombre : \"))\n",
    "        operateur = input(\"Entrez l'opérateur (+, -, *, /) : \")\n",
    "\n",
    "        # Effectuer l'opération en fonction de l'opérateur saisi\n",
    "        if operateur == '+':\n",
    "            resultat = nombre1 + nombre2\n",
    "        elif operateur == '-':\n",
    "            resultat = nombre1 - nombre2\n",
    "        elif operateur == '*':\n",
    "            resultat = nombre1 * nombre2\n",
    "        elif operateur == '/':\n",
    "            # Gérer le cas de la division par zéro\n",
    "            if nombre2 != 0:\n",
    "                resultat = nombre1 / nombre2\n",
    "            else:\n",
    "                print(\"Erreur : Division par zéro.\")\n",
    "                return\n",
    "        else:\n",
    "            print(\"Opérateur non valide. Veuillez saisir un opérateur valide (+, -, *, /).\")\n",
    "            return\n",
    "\n",
    "        # Afficher le résultat\n",
    "        print(\"Le résultat est :\", resultat)\n",
    "\n",
    "    except ValueError:\n",
    "        print(\"Erreur : Veuillez saisir des nombres valides.\")\n",
    "\n",
    "# Appeler la fonction de la calculatrice\n",
    "calculatrice()\n"
   ]
  },
  {
   "cell_type": "code",
   "execution_count": null,
   "id": "2befa9e4-0dff-4765-a550-365fc7cd5031",
   "metadata": {},
   "outputs": [],
   "source": []
  }
 ],
 "metadata": {
  "kernelspec": {
   "display_name": "Python 3 (ipykernel)",
   "language": "python",
   "name": "python3"
  },
  "language_info": {
   "codemirror_mode": {
    "name": "ipython",
    "version": 3
   },
   "file_extension": ".py",
   "mimetype": "text/x-python",
   "name": "python",
   "nbconvert_exporter": "python",
   "pygments_lexer": "ipython3",
   "version": "3.11.5"
  }
 },
 "nbformat": 4,
 "nbformat_minor": 5
}
